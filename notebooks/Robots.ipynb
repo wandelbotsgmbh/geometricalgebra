{
 "cells": [
  {
   "cell_type": "markdown",
   "id": "a4af1830",
   "metadata": {},
   "source": [
    "# This notebooks illustrates how to define a kinematic chain of a robot with forward and inverse kinematics\n"
   ]
  },
  {
   "cell_type": "code",
   "execution_count": 1,
   "id": "8f986dca",
   "metadata": {},
   "outputs": [
    {
     "name": "stderr",
     "output_type": "stream",
     "text": [
      "No GPU/TPU found, falling back to CPU. (Set TF_CPP_MIN_LOG_LEVEL=0 and rerun for more info.)\n"
     ]
    }
   ],
   "source": [
    "import numpy as np\n",
    "import pytest\n",
    "import os\n",
    "# jax is used so that the autograd can be used in the inverse kinematics\n",
    "os.environ[\"GEOMETRICALGEBRA_NUMPY\"] = \"jax\"  \n",
    "\n",
    "from geometricalgebra import cga3d\n",
    "from geometricalgebra import cga2d\n",
    "\n",
    "from geometricalgebra.vector import ga_numpy\n",
    "\n",
    "import jax\n",
    "from jax import numpy as jnp\n",
    "from jax.scipy.optimize import minimize"
   ]
  },
  {
   "cell_type": "code",
   "execution_count": 2,
   "id": "ccecf1eb",
   "metadata": {},
   "outputs": [],
   "source": [
    "class Robot:\n",
    "    \"\"\"A planar robot with three links.\n",
    "\n",
    "    The 3 degrees of freedom equal the 3D poses in 2D (2 degrees\n",
    "    of freedom for the position and one for the orientation)\n",
    "    \"\"\"\n",
    "\n",
    "    def __init__(self, link_lengths: tuple[float, float, float]):\n",
    "        self._link_lengths = link_lengths\n",
    "\n",
    "    def forward(self, joints: tuple[float, float, float], ret_links=False) -> cga3d.Vector:\n",
    "        \"\"\"Comupte the forward kinematics\"\"\"\n",
    "\n",
    "        p = cga3d.Vector.from_identity()\n",
    "        links = []\n",
    "        for j, l in zip(joints, self._link_lengths):\n",
    "            p = cga3d.Vector.from_rotator(j * cga3d.e_1 ^ cga3d.e_2) & p\n",
    "            p = cga3d.Vector.from_translator(l * cga3d.e_1 ^ cga3d.e_inf) & p\n",
    "            links.append(p.inverse())\n",
    "        if ret_links:\n",
    "            return p.inverse(), cga3d.Vector.stack(links)\n",
    "        return p.inverse()\n",
    "    \n",
    "    def _distance_to_goal_pose(self, joints, goal_pose) -> float:\n",
    "        \"\"\"Distance between the actual pose of the robot given the joints and a goal pose\n",
    "        \n",
    "        This difference is a sum of with the squared distance in position and a metric\n",
    "        in orientation space\n",
    "        \"\"\"\n",
    "        test_pose = self.forward(joints)\n",
    "        a = test_pose.apply(cga3d.POSE_ORIGIN)\n",
    "        b = goal_pose.apply(cga3d.POSE_ORIGIN)\n",
    "        return - 2 * (a.scalar_product(b).sum()-3)\n",
    "        \n",
    "    def inverse(self, pose: cga3d.Vector) -> tuple[float, float, float]:\n",
    "        \"\"\"Comupte the inverse kinematics\"\"\"\n",
    "        result = minimize(\n",
    "            self._distance_to_goal_pose,\n",
    "            jnp.array([.2,.1,.1]),\n",
    "            method=\"BFGS\",\n",
    "            tol=1e-8,\n",
    "            args=(goal_pose,)\n",
    "        )\n",
    "        if result.success and abs(result.fun) < 1e-8:\n",
    "            return result.x\n",
    "        raise ValueError(\"No solution found\")\n",
    "robot = Robot([1, 1, 1])"
   ]
  },
  {
   "cell_type": "code",
   "execution_count": 3,
   "id": "cc9a0ad7",
   "metadata": {},
   "outputs": [
    {
     "name": "stdout",
     "output_type": "stream",
     "text": [
      "pose: [ 0.86583703  1.89188842  0.          0.          0.         -3.        ]\n"
     ]
    }
   ],
   "source": [
    "pose = robot.forward([1, 1, 1])\n",
    "print(f\"pose: {pose.to_pos_and_rot_vector()}\")"
   ]
  },
  {
   "cell_type": "code",
   "execution_count": 4,
   "id": "69f50436",
   "metadata": {},
   "outputs": [
    {
     "name": "stdout",
     "output_type": "stream",
     "text": [
      "joints: [0.40000033 0.69999891 0.10000087]\n"
     ]
    }
   ],
   "source": [
    "goal_pose = cga3d.Vector.from_pos_and_rot_vector([-1.73701487,  2.21266479,  0,  0,  0, -1.2])\n",
    "joints = robot.inverse(goal_pose)\n",
    "print(f\"joints: {joints}\")"
   ]
  },
  {
   "cell_type": "code",
   "execution_count": null,
   "id": "ea3078a7",
   "metadata": {},
   "outputs": [],
   "source": []
  }
 ],
 "metadata": {
  "kernelspec": {
   "display_name": "Python (ga, github)",
   "language": "python",
   "name": "ga"
  },
  "language_info": {
   "codemirror_mode": {
    "name": "ipython",
    "version": 3
   },
   "file_extension": ".py",
   "mimetype": "text/x-python",
   "name": "python",
   "nbconvert_exporter": "python",
   "pygments_lexer": "ipython3",
   "version": "3.10.12"
  }
 },
 "nbformat": 4,
 "nbformat_minor": 5
}
