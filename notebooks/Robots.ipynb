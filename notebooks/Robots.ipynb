{
 "cells": [
  {
   "cell_type": "markdown",
   "id": "a4af1830",
   "metadata": {},
   "source": [
    "# This notebooks illustrates how to define a kinematic chain of a robot with forward and inverse kinematics\n"
   ]
  },
  {
   "cell_type": "code",
   "execution_count": 1,
   "id": "8f986dca",
   "metadata": {},
   "outputs": [
    {
     "name": "stderr",
     "output_type": "stream",
     "text": [
      "No GPU/TPU found, falling back to CPU. (Set TF_CPP_MIN_LOG_LEVEL=0 and rerun for more info.)\n"
     ]
    }
   ],
   "source": [
    "import numpy as np\n",
    "import pytest\n",
    "import os\n",
    "import matplotlib.pyplot as plt\n",
    "\n",
    "# jax is used so that the autograd can be used in the inverse kinematics\n",
    "os.environ[\"GEOMETRICALGEBRA_NUMPY\"] = \"jax\"  \n",
    "\n",
    "from geometricalgebra import cga3d\n",
    "\n",
    "from geometricalgebra.vector import ga_numpy\n",
    "\n",
    "import jax\n",
    "from jax import numpy as jnp\n",
    "from jax.scipy.optimize import minimize"
   ]
  },
  {
   "cell_type": "code",
   "execution_count": 2,
   "id": "ccecf1eb",
   "metadata": {},
   "outputs": [],
   "source": [
    "class Robot:\n",
    "    \"\"\"A planar robot with three links.\n",
    "\n",
    "    The 3 degrees of freedom equal the 3D poses in 2D (2 degrees\n",
    "    of freedom for the position and one for the orientation)\n",
    "    \"\"\"\n",
    "\n",
    "    def __init__(self, link_lengths: tuple[float, float, float]):\n",
    "        self._link_lengths = link_lengths\n",
    "\n",
    "    def forward(self, joints: tuple[float, float, float], ret_links=False) -> cga3d.Vector:\n",
    "        \"\"\"Comupte the forward kinematics\"\"\"\n",
    "\n",
    "        p = cga3d.Vector.from_identity()\n",
    "        links = [p]\n",
    "        for j, l in zip(joints, self._link_lengths):\n",
    "            p = cga3d.Vector.from_rotator(j * cga3d.e_1 ^ cga3d.e_2) & p\n",
    "            p = cga3d.Vector.from_translator(l * cga3d.e_1 ^ cga3d.e_inf) & p\n",
    "            links.append(p.inverse())\n",
    "        if ret_links:\n",
    "            return cga3d.Vector.stack(links)\n",
    "        return p.inverse()\n",
    "    \n",
    "    def _distance_to_goal_pose(self, joints, goal_pose) -> float:\n",
    "        \"\"\"Distance between the actual pose of the robot given the joints and a goal pose\n",
    "        \n",
    "        This difference is a sum of with the squared distance in position and a metric\n",
    "        in orientation space\n",
    "        \"\"\"\n",
    "        test_pose = self.forward(joints)\n",
    "        a = test_pose.apply(cga3d.POSE_ORIGIN)\n",
    "        b = goal_pose.apply(cga3d.POSE_ORIGIN)\n",
    "        return - 2 * (a.scalar_product(b).sum()-3)\n",
    "        \n",
    "    def inverse(self, pose: cga3d.Vector, guess) -> tuple[float, float, float]:\n",
    "        \"\"\"Comupte the inverse kinematics\"\"\"\n",
    "        result = minimize(\n",
    "            self._distance_to_goal_pose,\n",
    "            jnp.asarray(guess, dtype=float),\n",
    "            method=\"BFGS\",\n",
    "            tol=1e-8,\n",
    "            args=(goal_pose,)\n",
    "        )\n",
    "        if result.success and abs(result.fun) < 1e-8:\n",
    "            return result.x\n",
    "        raise ValueError(\"No solution found\")\n",
    "robot = Robot([1, 1, 1])"
   ]
  },
  {
   "cell_type": "code",
   "execution_count": 3,
   "id": "77a4b3e5",
   "metadata": {},
   "outputs": [],
   "source": [
    "\n",
    "\n",
    "def show_tool(pose: cga3d.Vector):\n",
    "    tool = cga3d.Vector.from_euclid([[-.5, -.5, 0], [0, -.5, 0], [0, .5, 0], [-.5, .5, 0]])\n",
    "    tool_in_robot_frame = pose.apply(tool)\n",
    "    plt.plot(*tool_in_robot_frame.to_euclid()[:, :2].T, '.-', marker='o')\n",
    "    \n",
    "\n",
    "def show_robot(links: cga3d.Vector):\n",
    "    pos_joints = links.apply(cga3d.e_0).to_euclid()\n",
    "    tool_pose = links[-1]\n",
    "    plt.plot(*links.apply(cga3d.e_0).to_euclid()[:, :2].T, '.-', marker='o')\n",
    "    show_tool(tool_pose)\n",
    "    plt.xlim(-2.5, 2.5)\n",
    "    plt.ylim(0, 5)\n",
    "    plt.gca().set_aspect('equal')"
   ]
  },
  {
   "cell_type": "code",
   "execution_count": 4,
   "id": "cc9a0ad7",
   "metadata": {},
   "outputs": [
    {
     "name": "stdout",
     "output_type": "stream",
     "text": [
      "pose: [ 0.86583703  1.89188842  0.          0.          0.         -3.        ]\n"
     ]
    },
    {
     "name": "stderr",
     "output_type": "stream",
     "text": [
      "/tmp/ipykernel_228954/3438846976.py:10: UserWarning: marker is redundantly defined by the 'marker' keyword argument and the fmt string \".-\" (-> marker='.'). The keyword argument will take precedence.\n",
      "  plt.plot(*links.apply(cga3d.e_0).to_euclid()[:, :2].T, '.-', marker='o')\n",
      "/tmp/ipykernel_228954/3438846976.py:4: UserWarning: marker is redundantly defined by the 'marker' keyword argument and the fmt string \".-\" (-> marker='.'). The keyword argument will take precedence.\n",
      "  plt.plot(*tool_in_robot_frame.to_euclid()[:, :2].T, '.-', marker='o')\n"
     ]
    },
    {
     "data": {
      "image/png": "[encoded data removed]",
      "text/plain": [
       "<Figure size 640x480 with 1 Axes>"
      ]
     },
     "metadata": {},
     "output_type": "display_data"
    }
   ],
   "source": [
    "joints = [1, 1, 1]\n",
    "pose = robot.forward(joints)\n",
    "print(f\"pose: {pose.to_pos_and_rot_vector()}\")\n",
    "show_robot(robot.forward(joints, ret_links=True))"
   ]
  },
  {
   "cell_type": "code",
   "execution_count": 5,
   "id": "69f50436",
   "metadata": {},
   "outputs": [
    {
     "name": "stdout",
     "output_type": "stream",
     "text": [
      "joints: [1, 1, 1]\n"
     ]
    },
    {
     "name": "stderr",
     "output_type": "stream",
     "text": [
      "/tmp/ipykernel_228954/3438846976.py:10: UserWarning: marker is redundantly defined by the 'marker' keyword argument and the fmt string \".-\" (-> marker='.'). The keyword argument will take precedence.\n",
      "  plt.plot(*links.apply(cga3d.e_0).to_euclid()[:, :2].T, '.-', marker='o')\n",
      "/tmp/ipykernel_228954/3438846976.py:4: UserWarning: marker is redundantly defined by the 'marker' keyword argument and the fmt string \".-\" (-> marker='.'). The keyword argument will take precedence.\n",
      "  plt.plot(*tool_in_robot_frame.to_euclid()[:, :2].T, '.-', marker='o')\n"
     ]
    },
    {
     "data": {
      "image/png": "[encoded data removed]",
      "text/plain": [
       "<Figure size 640x480 with 1 Axes>"
      ]
     },
     "metadata": {},
     "output_type": "display_data"
    }
   ],
   "source": [
    "goal_pose = cga3d.Vector.from_pos_and_rot_vector([-1.8,  2.3,  0,  0,  0, -1.2])\n",
    "joints_for_goal_pose = robot.inverse(goal_pose, joints)\n",
    "print(f\"joints: {joints}\")\n",
    "show_robot(robot.forward(joints_for_goal_pose, ret_links=True))"
   ]
  }
 ],
 "metadata": {
  "kernelspec": {
   "display_name": "Python (geometricalgebra)",
   "language": "python",
   "name": "geometricalgebra"
  },
  "language_info": {
   "codemirror_mode": {
    "name": "ipython",
    "version": 3
   },
   "file_extension": ".py",
   "mimetype": "text/x-python",
   "name": "python",
   "nbconvert_exporter": "python",
   "pygments_lexer": "ipython3",
   "version": "3.10.12"
  }
 },
 "nbformat": 4,
 "nbformat_minor": 5
}
